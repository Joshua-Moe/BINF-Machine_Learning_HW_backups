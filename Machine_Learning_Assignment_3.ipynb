{
 "cells": [
  {
   "cell_type": "code",
   "execution_count": 1,
   "metadata": {},
   "outputs": [],
   "source": [
    "import pandas as pd\n",
    "import numpy as np\n",
    "from sklearn.discriminant_analysis import LinearDiscriminantAnalysis as LDA\n",
    "from sklearn import datasets\n",
    "import matplotlib.pyplot as plt"
   ]
  },
  {
   "cell_type": "markdown",
   "metadata": {},
   "source": [
    "## 1. Implement LDA (40 points)\n",
    "\n",
    "Implement your own class to carry out two-class LDA. Use setosa-virginica, setosaversicolor, or versicolor-virginica in the iris dataset to test and compare your results\n",
    "with LDA in sklearn.\n"
   ]
  },
  {
   "cell_type": "code",
   "execution_count": 47,
   "metadata": {},
   "outputs": [],
   "source": [
    "class LDA2classes:\n",
    "    \n",
    "    \n",
    "    def doLDA(self,dataset_file,class1,class2):\n",
    "        self.dataset_file = dataset_file\n",
    "        self.class1 = class1\n",
    "        self.class2 = class2\n",
    "        data = pd.read_csv(self.dataset_file)\n",
    "        #df.iloc[:,-1:] group1 = data[data[\"label\"] == self.class1]\n",
    "        group1 = data[data.iloc[:,-1] == self.class1]\n",
    "        group2 = data[data.iloc[:,-1] == self.class2]\n",
    "        \n",
    "        # TO DO: Calculate μ1 and μ2.\n",
    "        \n",
    "            #Creating μ1 from group1 \n",
    "        list1 = []\n",
    "        for a in range(group1.shape[1]-1):\n",
    "            list1.append(0)\n",
    "        x1 = np.array(list1)\n",
    "        for b in range(group1.shape[0]):\n",
    "            x1 = np.add(x1,group1.iloc[b,0:group1.shape[1]-1])\n",
    "        μ1 = x1/group1.shape[0]\n",
    "        #print(μ1,\"\\n\")\n",
    "        \n",
    "            #Creating μ2 from group2\n",
    "        list2 = []\n",
    "        for c in range(group2.shape[1]-1):\n",
    "            list2.append(0)\n",
    "        x2 = np.array(list2)\n",
    "        for d in range(group2.shape[0]):\n",
    "            x2 = np.add(x2,group2.iloc[d,0:group2.shape[1]-1])\n",
    "        μ2 = x2/group2.shape[0]\n",
    "        #print(μ2,\"\\n\")\n",
    "        \n",
    "        # TO DO: Create the scatter matrices and find S_within\n",
    "            # S1 + S2 = S_within\n",
    "        \n",
    "        n = group1.shape[1]-1\n",
    "        final_list = []\n",
    "        temp_list = []\n",
    "\n",
    "        for i in range(n):\n",
    "            for j in range(n):\n",
    "                temp_list.append(0)\n",
    "            final_list.append(temp_list)\n",
    "            temp_list = []\n",
    "\n",
    "        S1 = np.asmatrix(np.asarray(final_list), dtype='float')\n",
    "        #S1 = np.matrix('0 0; 0 0')\n",
    "        for i in range(group1.shape[0]):\n",
    "            m1 = np.subtract(group1.iloc[i,0:group1.shape[1]-1],μ1) # (X - μ1) 1xd\n",
    "            m1 = np.asmatrix(m1)\n",
    "            #print(m1,\"\\n\",type(m1),\"\\n\")\n",
    "            m2 = m1.T  # (X - μ1)^T dx1\n",
    "            #print(m2,\"\\n\",type(m2),\"\\n\")\n",
    "            #S1 = np.add(S1,np.matmul(m2,m1))\n",
    "            S1 = np.add(S1,np.dot(m2,m1))\n",
    "           \n",
    "        #print(S1,\"\\n\")\n",
    "        \n",
    "        n = group2.shape[1]-1\n",
    "        final_list = []\n",
    "        temp_list = []\n",
    "\n",
    "        for i in range(n):\n",
    "            for j in range(n):\n",
    "                temp_list.append(0)\n",
    "            final_list.append(temp_list)\n",
    "            temp_list = []\n",
    "\n",
    "        S2 = np.asmatrix(np.asarray(final_list), dtype='float')\n",
    "        #S2 = np.matrix('0 0; 0 0')\n",
    "        for i in range(group2.shape[0]):\n",
    "            m1 = np.subtract(group2.iloc[i,0:group2.shape[1]-1],μ2) # (X - μ2) 1xd\n",
    "            m1 = np.asmatrix(m1)\n",
    "            m2 = m1.T # (X - μ2)^T dx1\n",
    "            #S2 = np.add(S2,np.matmul(m2,m1))\n",
    "            S2 = np.add(S2,np.dot(m2,m1))\n",
    "        \n",
    "        #print(S2,\"\\n\")\n",
    "        \n",
    "        S_within = np.add(S1,S2)\n",
    "        \n",
    "        print(S_within)\n",
    "        print(S_within.shape)\n",
    "\n",
    "        # TO DO: Use the calculated S_within, μ1, and μ2 to find W*\n",
    "            # W = S_within^-1 * (μ1 - μ2)\n",
    "\n",
    "        S_within_inverse = np.linalg.inv(S_within)\n",
    "        μ1_minus_μ2 = np.subtract(μ1,μ2)\n",
    "\n",
    "        W = np.matmul(S_within_inverse, μ1_minus_μ2)\n",
    "        \n",
    "        # TO DO: Compute the variance\n",
    "        \n",
    "        MuY1 = np.matmul(μ1,W.T)\n",
    "        #print(MuY1,type(MuY1))\n",
    "        MuY2 = np.matmul(μ2,W.T)\n",
    "        \n",
    "        yScatter1 = 0\n",
    "        for i in range(group1.shape[0]):\n",
    "            Y_minus_MuY1 = np.matmul(np.asmatrix(group1.iloc[i,0:group1.shape[1]-1]),W.T).item() - MuY1.item()\n",
    "            #print(\"Y_minus_MuY1: \", Y_minus_MuY1)\n",
    "            Y_minus_MuY1_sq = Y_minus_MuY1**2\n",
    "            yScatter1 = yScatter1 + Y_minus_MuY1_sq\n",
    "            \n",
    "        yScatter2 = 0\n",
    "        for i in range(group2.shape[0]):\n",
    "            Y_minus_MuY2 = np.matmul(np.asmatrix(group2.iloc[i,0:group2.shape[1]-1]),W.T).item() - MuY2.item()\n",
    "            #print(\"Y_minus_MuY1: \", Y_minus_MuY1)\n",
    "            Y_minus_MuY2_sq = Y_minus_MuY2**2\n",
    "            yScatter2 = yScatter2 + Y_minus_MuY2_sq\n",
    "            \n",
    "        LDA_results = {'W':W,\n",
    "                       'variance':[yScatter1,yScatter2]}\n",
    "        \n",
    "        return LDA_results\n",
    "    \n",
    "    \n",
    "    \n",
    "    "
   ]
  },
  {
   "cell_type": "code",
   "execution_count": 3,
   "metadata": {},
   "outputs": [],
   "source": [
    "class DoPCA:\n",
    "        \n",
    "    def PCA(self, matrix, transposed):\n",
    "        self.matrix = matrix\n",
    "        self.transposed = transposed\n",
    "    \n",
    "        \n",
    "        ### New\n",
    "        if self.transposed == True:\n",
    "            matrix = self.matrix.T\n",
    "        else:\n",
    "            matrix = self.matrix\n",
    "        ###\n",
    "        \n",
    "        #matrix = pd.read_csv(self.matrix)\n",
    "        \n",
    "        #matrix = matrix[matrix.iloc[:,0:matrix.shape[1]-1]]\n",
    "        \n",
    "        \"\"\"\n",
    "        # (1) Do mean centering\n",
    "        #meanCenteredData = self.matrix - np.mean(self.matrix, axis=0)\n",
    "        column_mean = matrix.mean(axis=0)\n",
    "        column_mean_stacked = np.tile(column_mean, reps=(matrix.shape[0], 1))\n",
    "        meanCenteredData = matrix - column_mean_stacked\n",
    "        \"\"\"\n",
    "        \n",
    "        \n",
    "        # (2) Compute the covariance matrix using numpy.cov()\n",
    "        \"\"\"if self.transposed == True:\n",
    "            covMatrix = np.cov(meanCenteredData.T, rowvar=False)\n",
    "        else:\n",
    "            covMatrix = np.cov(meanCenteredData, rowvar=False)\n",
    "        \"\"\"\n",
    "        covMatrix = np.cov(matrix, rowvar=False)\n",
    "        \n",
    "        # (3) Perform eigen-decomposition using numpy.linalg.eig()\n",
    "        w,v = np.linalg.eig(covMatrix)\n",
    "        w = w.real\n",
    "        v = v.real\n",
    "        \n",
    "        sortIndex = w.argsort()[::-1]\n",
    "        eigenvalues = w[sortIndex]\n",
    "        eigenvectors = v[:,sortIndex]\n",
    "        \n",
    "        # (4). Project the data onto the principal component axes.\n",
    "        fig = plt.figure()\n",
    "        ax = fig.add_subplot(1,1,1)\n",
    "        ax.set_title('Raw Data and PC Axis')\n",
    "        ax.scatter(matrix.iloc[:,0], matrix.iloc[:,1], color='blue')\n",
    "        k=20\n",
    "        ax.plot([0, (-1)*k*eigenvectors[0,0]], [0, (-1)*k*eigenvectors[1,0]],\n",
    "            color='red', linewidth=3)\n",
    "        ax.plot([0, k * eigenvectors[0, 1]], [0, k * eigenvectors[1, 1]],\n",
    "            color='green',linewidth=3)\n",
    "        ax.set_aspect('equal', 'box')\n",
    "        fig.show()\n",
    "        \n",
    "        # (5). Return the variance and percent variance that each PC explains, all of the scores, and loadings.\n",
    "        percent_variance = (eigenvalues / sum(eigenvalues)) * 100\n",
    "        scores = np.matmul(matrix, eigenvectors)\n",
    "        \n",
    "        results = {'variance' : eigenvalues,\n",
    "                   'percent variance' : percent_variance,\n",
    "                   'scores' : scores,\n",
    "                   'loadings' : eigenvectors}\n",
    "        return results"
   ]
  },
  {
   "cell_type": "code",
   "execution_count": 4,
   "metadata": {},
   "outputs": [],
   "source": [
    "iris = datasets.load_iris()\n"
   ]
  },
  {
   "cell_type": "code",
   "execution_count": null,
   "metadata": {},
   "outputs": [],
   "source": [
    "iris"
   ]
  },
  {
   "cell_type": "code",
   "execution_count": null,
   "metadata": {},
   "outputs": [],
   "source": [
    "iris['target']"
   ]
  },
  {
   "cell_type": "code",
   "execution_count": null,
   "metadata": {},
   "outputs": [],
   "source": [
    "#sklearn_LDA = LDA(n_components=2)\n",
    "#sklearn_LDA_projection = sklarn_LDA.fit(iris.data,iris.target).transform(X)"
   ]
  },
  {
   "cell_type": "code",
   "execution_count": 5,
   "metadata": {
    "collapsed": true
   },
   "outputs": [
    {
     "data": {
      "text/plain": [
       "array([[ 8.06179978e+00, -3.00420621e-01],\n",
       "       [ 7.12868772e+00,  7.86660426e-01],\n",
       "       [ 7.48982797e+00,  2.65384488e-01],\n",
       "       [ 6.81320057e+00,  6.70631068e-01],\n",
       "       [ 8.13230933e+00, -5.14462530e-01],\n",
       "       [ 7.70194674e+00, -1.46172097e+00],\n",
       "       [ 7.21261762e+00, -3.55836209e-01],\n",
       "       [ 7.60529355e+00,  1.16338380e-02],\n",
       "       [ 6.56055159e+00,  1.01516362e+00],\n",
       "       [ 7.34305989e+00,  9.47319209e-01],\n",
       "       [ 8.39738652e+00, -6.47363392e-01],\n",
       "       [ 7.21929685e+00,  1.09646389e-01],\n",
       "       [ 7.32679599e+00,  1.07298943e+00],\n",
       "       [ 7.57247066e+00,  8.05464137e-01],\n",
       "       [ 9.84984300e+00, -1.58593698e+00],\n",
       "       [ 9.15823890e+00, -2.73759647e+00],\n",
       "       [ 8.58243141e+00, -1.83448945e+00],\n",
       "       [ 7.78075375e+00, -5.84339407e-01],\n",
       "       [ 8.07835876e+00, -9.68580703e-01],\n",
       "       [ 8.02097451e+00, -1.14050366e+00],\n",
       "       [ 7.49680227e+00,  1.88377220e-01],\n",
       "       [ 7.58648117e+00, -1.20797032e+00],\n",
       "       [ 8.68104293e+00, -8.77590154e-01],\n",
       "       [ 6.25140358e+00, -4.39696367e-01],\n",
       "       [ 6.55893336e+00,  3.89222752e-01],\n",
       "       [ 6.77138315e+00,  9.70634453e-01],\n",
       "       [ 6.82308032e+00, -4.63011612e-01],\n",
       "       [ 7.92461638e+00, -2.09638715e-01],\n",
       "       [ 7.99129024e+00, -8.63787128e-02],\n",
       "       [ 6.82946447e+00,  5.44960851e-01],\n",
       "       [ 6.75895493e+00,  7.59002759e-01],\n",
       "       [ 7.37495254e+00, -5.65844592e-01],\n",
       "       [ 9.12634625e+00, -1.22443267e+00],\n",
       "       [ 9.46768199e+00, -1.82522635e+00],\n",
       "       [ 7.06201386e+00,  6.63400423e-01],\n",
       "       [ 7.95876243e+00,  1.64961722e-01],\n",
       "       [ 8.61367201e+00, -4.03253602e-01],\n",
       "       [ 8.33041759e+00, -2.28133530e-01],\n",
       "       [ 6.93412007e+00,  7.05519379e-01],\n",
       "       [ 7.68823131e+00,  9.22362309e-03],\n",
       "       [ 7.91793715e+00, -6.75121313e-01],\n",
       "       [ 5.66188065e+00,  1.93435524e+00],\n",
       "       [ 7.24101468e+00,  2.72615132e-01],\n",
       "       [ 6.41443556e+00, -1.24730131e+00],\n",
       "       [ 6.85944381e+00, -1.05165396e+00],\n",
       "       [ 6.76470393e+00,  5.05151855e-01],\n",
       "       [ 8.08189937e+00, -7.63392750e-01],\n",
       "       [ 7.18676904e+00,  3.60986823e-01],\n",
       "       [ 8.31444876e+00, -6.44953177e-01],\n",
       "       [ 7.67196741e+00,  1.34893840e-01],\n",
       "       [-1.45927545e+00, -2.85437643e-02],\n",
       "       [-1.79770574e+00, -4.84385502e-01],\n",
       "       [-2.41694888e+00,  9.27840307e-02],\n",
       "       [-2.26247349e+00,  1.58725251e+00],\n",
       "       [-2.54867836e+00,  4.72204898e-01],\n",
       "       [-2.42996725e+00,  9.66132066e-01],\n",
       "       [-2.44848456e+00, -7.95961954e-01],\n",
       "       [-2.22666513e-01,  1.58467318e+00],\n",
       "       [-1.75020123e+00,  8.21180130e-01],\n",
       "       [-1.95842242e+00,  3.51563753e-01],\n",
       "       [-1.19376031e+00,  2.63445570e+00],\n",
       "       [-1.85892567e+00, -3.19006544e-01],\n",
       "       [-1.15809388e+00,  2.64340991e+00],\n",
       "       [-2.66605725e+00,  6.42504540e-01],\n",
       "       [-3.78367218e-01, -8.66389312e-02],\n",
       "       [-1.20117255e+00, -8.44373592e-02],\n",
       "       [-2.76810246e+00, -3.21995363e-02],\n",
       "       [-7.76854039e-01,  1.65916185e+00],\n",
       "       [-3.49805433e+00,  1.68495616e+00],\n",
       "       [-1.09042788e+00,  1.62658350e+00],\n",
       "       [-3.71589615e+00, -1.04451442e+00],\n",
       "       [-9.97610366e-01,  4.90530602e-01],\n",
       "       [-3.83525931e+00,  1.40595806e+00],\n",
       "       [-2.25741249e+00,  1.42679423e+00],\n",
       "       [-1.25571326e+00,  5.46424197e-01],\n",
       "       [-1.43755762e+00,  1.34424979e-01],\n",
       "       [-2.45906137e+00,  9.35277280e-01],\n",
       "       [-3.51848495e+00, -1.60588866e-01],\n",
       "       [-2.58979871e+00,  1.74611728e-01],\n",
       "       [ 3.07487884e-01,  1.31887146e+00],\n",
       "       [-1.10669179e+00,  1.75225371e+00],\n",
       "       [-6.05524589e-01,  1.94298038e+00],\n",
       "       [-8.98703769e-01,  9.04940034e-01],\n",
       "       [-4.49846635e+00,  8.82749915e-01],\n",
       "       [-2.93397799e+00, -2.73791065e-02],\n",
       "       [-2.10360821e+00, -1.19156767e+00],\n",
       "       [-2.14258208e+00, -8.87797815e-02],\n",
       "       [-2.47945603e+00,  1.94073927e+00],\n",
       "       [-1.32552574e+00,  1.62869550e-01],\n",
       "       [-1.95557887e+00,  1.15434826e+00],\n",
       "       [-2.40157020e+00,  1.59458341e+00],\n",
       "       [-2.29248878e+00,  3.32860296e-01],\n",
       "       [-1.27227224e+00,  1.21458428e+00],\n",
       "       [-2.93176055e-01,  1.79871509e+00],\n",
       "       [-2.00598883e+00,  9.05418042e-01],\n",
       "       [-1.18166311e+00,  5.37570242e-01],\n",
       "       [-1.61615645e+00,  4.70103580e-01],\n",
       "       [-1.42158879e+00,  5.51244626e-01],\n",
       "       [ 4.75973788e-01,  7.99905482e-01],\n",
       "       [-1.54948259e+00,  5.93363582e-01],\n",
       "       [-7.83947399e+00, -2.13973345e+00],\n",
       "       [-5.50747997e+00,  3.58139892e-02],\n",
       "       [-6.29200850e+00, -4.67175777e-01],\n",
       "       [-5.60545633e+00,  3.40738058e-01],\n",
       "       [-6.85055995e+00, -8.29825394e-01],\n",
       "       [-7.41816784e+00,  1.73117995e-01],\n",
       "       [-4.67799541e+00,  4.99095015e-01],\n",
       "       [-6.31692685e+00,  9.68980756e-01],\n",
       "       [-6.32773684e+00,  1.38328993e+00],\n",
       "       [-6.85281335e+00, -2.71758963e+00],\n",
       "       [-4.44072512e+00, -1.34723692e+00],\n",
       "       [-5.45009572e+00,  2.07736942e-01],\n",
       "       [-5.66033713e+00, -8.32713617e-01],\n",
       "       [-5.95823722e+00,  9.40175447e-02],\n",
       "       [-6.75926282e+00, -1.60023206e+00],\n",
       "       [-5.80704331e+00, -2.01019882e+00],\n",
       "       [-5.06601233e+00,  2.62733839e-02],\n",
       "       [-6.60881882e+00, -1.75163587e+00],\n",
       "       [-9.17147486e+00,  7.48255067e-01],\n",
       "       [-4.76453569e+00,  2.15573720e+00],\n",
       "       [-6.27283915e+00, -1.64948141e+00],\n",
       "       [-5.36071189e+00, -6.46120732e-01],\n",
       "       [-7.58119982e+00,  9.80722934e-01],\n",
       "       [-4.37150279e+00,  1.21297458e-01],\n",
       "       [-5.72317531e+00, -1.29327553e+00],\n",
       "       [-5.27915920e+00,  4.24582377e-02],\n",
       "       [-4.08087208e+00, -1.85936572e-01],\n",
       "       [-4.07703640e+00, -5.23238483e-01],\n",
       "       [-6.51910397e+00, -2.96976389e-01],\n",
       "       [-4.58371942e+00,  8.56815813e-01],\n",
       "       [-6.22824009e+00,  7.12719638e-01],\n",
       "       [-5.22048773e+00, -1.46819509e+00],\n",
       "       [-6.80015000e+00, -5.80895175e-01],\n",
       "       [-3.81515972e+00,  9.42985932e-01],\n",
       "       [-5.10748966e+00,  2.13059000e+00],\n",
       "       [-6.79671631e+00, -8.63090395e-01],\n",
       "       [-6.52449599e+00, -2.44503527e+00],\n",
       "       [-4.99550279e+00, -1.87768525e-01],\n",
       "       [-3.93985300e+00, -6.14020389e-01],\n",
       "       [-5.20383090e+00, -1.14476808e+00],\n",
       "       [-6.65308685e+00, -1.80531976e+00],\n",
       "       [-5.10555946e+00, -1.99218201e+00],\n",
       "       [-5.50747997e+00,  3.58139892e-02],\n",
       "       [-6.79601924e+00, -1.46068695e+00],\n",
       "       [-6.84735943e+00, -2.42895067e+00],\n",
       "       [-5.64500346e+00, -1.67771734e+00],\n",
       "       [-5.17956460e+00,  3.63475041e-01],\n",
       "       [-4.96774090e+00, -8.21140550e-01],\n",
       "       [-5.88614539e+00, -2.34509051e+00],\n",
       "       [-4.68315426e+00, -3.32033811e-01]])"
      ]
     },
     "execution_count": 5,
     "metadata": {},
     "output_type": "execute_result"
    }
   ],
   "source": [
    "#Code snipit from class lecture sample:\n",
    "sklearn_LDA = LDA(n_components=2) # 'setosa' and 'versicolor'\n",
    "sklearn_LDA_projection = sklearn_LDA.fit_transform(iris.data, iris.target)\n",
    "sklearn_LDA_projection = -sklearn_LDA_projection\n",
    "\n",
    "sklearn_LDA_projection\n"
   ]
  },
  {
   "cell_type": "code",
   "execution_count": 6,
   "metadata": {},
   "outputs": [
    {
     "data": {
      "text/plain": [
       "array([0.9912126, 0.0087874])"
      ]
     },
     "execution_count": 6,
     "metadata": {},
     "output_type": "execute_result"
    }
   ],
   "source": [
    "sklearn_LDA.explained_variance_ratio_"
   ]
  },
  {
   "cell_type": "code",
   "execution_count": 48,
   "metadata": {},
   "outputs": [
    {
     "name": "stdout",
     "output_type": "stream",
     "text": [
      "[[19.1434 9.088599999999998 9.752800000000004 3.25]\n",
      " [9.088599999999998 11.9388 4.622400000000001 2.5793999999999997]\n",
      " [9.752800000000004 4.622400000000001 12.295200000000007\n",
      "  3.8611999999999997]\n",
      " [3.25 2.5793999999999997 3.8611999999999997 2.479399999999999]]\n",
      "(4, 4)\n"
     ]
    },
    {
     "ename": "TypeError",
     "evalue": "No loop matching the specified signature and casting\nwas found for ufunc inv",
     "output_type": "error",
     "traceback": [
      "\u001b[1;31m---------------------------------------------------------------------------\u001b[0m",
      "\u001b[1;31mTypeError\u001b[0m                                 Traceback (most recent call last)",
      "\u001b[1;32m<ipython-input-48-212cee34dab7>\u001b[0m in \u001b[0;36m<module>\u001b[1;34m\u001b[0m\n\u001b[0;32m      1\u001b[0m \u001b[0mmyLDAtest\u001b[0m \u001b[1;33m=\u001b[0m \u001b[0mLDA2classes\u001b[0m\u001b[1;33m(\u001b[0m\u001b[1;33m)\u001b[0m\u001b[1;33m\u001b[0m\u001b[1;33m\u001b[0m\u001b[0m\n\u001b[1;32m----> 2\u001b[1;33m \u001b[0mmyLDAtest_x\u001b[0m \u001b[1;33m=\u001b[0m \u001b[0mmyLDAtest\u001b[0m\u001b[1;33m.\u001b[0m\u001b[0mdoLDA\u001b[0m\u001b[1;33m(\u001b[0m\u001b[1;34m\"./iris_csv.csv\"\u001b[0m\u001b[1;33m,\u001b[0m\u001b[1;34m\"Iris-setosa\"\u001b[0m\u001b[1;33m,\u001b[0m\u001b[1;34m\"Iris-versicolor\"\u001b[0m\u001b[1;33m)\u001b[0m\u001b[1;33m\u001b[0m\u001b[1;33m\u001b[0m\u001b[0m\n\u001b[0m",
      "\u001b[1;32m<ipython-input-47-f1b642d526f1>\u001b[0m in \u001b[0;36mdoLDA\u001b[1;34m(self, dataset_file, class1, class2)\u001b[0m\n\u001b[0;32m     88\u001b[0m             \u001b[1;31m# W = S_within^-1 * (μ1 - μ2)\u001b[0m\u001b[1;33m\u001b[0m\u001b[1;33m\u001b[0m\u001b[1;33m\u001b[0m\u001b[0m\n\u001b[0;32m     89\u001b[0m \u001b[1;33m\u001b[0m\u001b[0m\n\u001b[1;32m---> 90\u001b[1;33m         \u001b[0mS_within_inverse\u001b[0m \u001b[1;33m=\u001b[0m \u001b[0mnp\u001b[0m\u001b[1;33m.\u001b[0m\u001b[0mlinalg\u001b[0m\u001b[1;33m.\u001b[0m\u001b[0minv\u001b[0m\u001b[1;33m(\u001b[0m\u001b[0mS_within\u001b[0m\u001b[1;33m)\u001b[0m\u001b[1;33m\u001b[0m\u001b[1;33m\u001b[0m\u001b[0m\n\u001b[0m\u001b[0;32m     91\u001b[0m         \u001b[0mμ1_minus_μ2\u001b[0m \u001b[1;33m=\u001b[0m \u001b[0mnp\u001b[0m\u001b[1;33m.\u001b[0m\u001b[0msubtract\u001b[0m\u001b[1;33m(\u001b[0m\u001b[0mμ1\u001b[0m\u001b[1;33m,\u001b[0m\u001b[0mμ2\u001b[0m\u001b[1;33m)\u001b[0m\u001b[1;33m\u001b[0m\u001b[1;33m\u001b[0m\u001b[0m\n\u001b[0;32m     92\u001b[0m \u001b[1;33m\u001b[0m\u001b[0m\n",
      "\u001b[1;32mC:\\Anaconda\\lib\\site-packages\\numpy\\linalg\\linalg.py\u001b[0m in \u001b[0;36minv\u001b[1;34m(a)\u001b[0m\n\u001b[0;32m    549\u001b[0m     \u001b[0msignature\u001b[0m \u001b[1;33m=\u001b[0m \u001b[1;34m'D->D'\u001b[0m \u001b[1;32mif\u001b[0m \u001b[0misComplexType\u001b[0m\u001b[1;33m(\u001b[0m\u001b[0mt\u001b[0m\u001b[1;33m)\u001b[0m \u001b[1;32melse\u001b[0m \u001b[1;34m'd->d'\u001b[0m\u001b[1;33m\u001b[0m\u001b[1;33m\u001b[0m\u001b[0m\n\u001b[0;32m    550\u001b[0m     \u001b[0mextobj\u001b[0m \u001b[1;33m=\u001b[0m \u001b[0mget_linalg_error_extobj\u001b[0m\u001b[1;33m(\u001b[0m\u001b[0m_raise_linalgerror_singular\u001b[0m\u001b[1;33m)\u001b[0m\u001b[1;33m\u001b[0m\u001b[1;33m\u001b[0m\u001b[0m\n\u001b[1;32m--> 551\u001b[1;33m     \u001b[0mainv\u001b[0m \u001b[1;33m=\u001b[0m \u001b[0m_umath_linalg\u001b[0m\u001b[1;33m.\u001b[0m\u001b[0minv\u001b[0m\u001b[1;33m(\u001b[0m\u001b[0ma\u001b[0m\u001b[1;33m,\u001b[0m \u001b[0msignature\u001b[0m\u001b[1;33m=\u001b[0m\u001b[0msignature\u001b[0m\u001b[1;33m,\u001b[0m \u001b[0mextobj\u001b[0m\u001b[1;33m=\u001b[0m\u001b[0mextobj\u001b[0m\u001b[1;33m)\u001b[0m\u001b[1;33m\u001b[0m\u001b[1;33m\u001b[0m\u001b[0m\n\u001b[0m\u001b[0;32m    552\u001b[0m     \u001b[1;32mreturn\u001b[0m \u001b[0mwrap\u001b[0m\u001b[1;33m(\u001b[0m\u001b[0mainv\u001b[0m\u001b[1;33m.\u001b[0m\u001b[0mastype\u001b[0m\u001b[1;33m(\u001b[0m\u001b[0mresult_t\u001b[0m\u001b[1;33m,\u001b[0m \u001b[0mcopy\u001b[0m\u001b[1;33m=\u001b[0m\u001b[1;32mFalse\u001b[0m\u001b[1;33m)\u001b[0m\u001b[1;33m)\u001b[0m\u001b[1;33m\u001b[0m\u001b[1;33m\u001b[0m\u001b[0m\n\u001b[0;32m    553\u001b[0m \u001b[1;33m\u001b[0m\u001b[0m\n",
      "\u001b[1;31mTypeError\u001b[0m: No loop matching the specified signature and casting\nwas found for ufunc inv"
     ]
    }
   ],
   "source": [
    "myLDAtest = LDA2classes()\n",
    "myLDAtest_x = myLDAtest.doLDA(\"./iris_csv.csv\",\"Iris-setosa\",\"Iris-versicolor\")"
   ]
  },
  {
   "cell_type": "code",
   "execution_count": null,
   "metadata": {},
   "outputs": [],
   "source": []
  },
  {
   "cell_type": "markdown",
   "metadata": {},
   "source": [
    "## 2. PCA and LDA (60 points)\n",
    "In dataset dataset 1.csv, columns correspond to variables and there are two variables\n",
    "named V1 and V2.\n"
   ]
  },
  {
   "cell_type": "code",
   "execution_count": 52,
   "metadata": {},
   "outputs": [],
   "source": [
    "data = pd.read_csv(\"./dataset_1.csv\")\n",
    "group1 = data[data.iloc[:,-1] == 0]\n",
    "group2 = data[data.iloc[:,-1] == 1]"
   ]
  },
  {
   "cell_type": "markdown",
   "metadata": {},
   "source": [
    "### (1) Plot the raw data points V2 vs V1. Do you see a clear separation of the raw data?"
   ]
  },
  {
   "cell_type": "code",
   "execution_count": 53,
   "metadata": {},
   "outputs": [
    {
     "data": {
      "image/png": "[encoded data removed]",
      "text/plain": [
       "<Figure size 432x288 with 1 Axes>"
      ]
     },
     "metadata": {
      "needs_background": "light"
     },
     "output_type": "display_data"
    }
   ],
   "source": [
    "plt.plot(group1.iloc[:,0],group1.iloc[:,1],\"ro\")\n",
    "plt.plot(group2.iloc[:,0],group2.iloc[:,1],\"bo\")\n",
    "plt.xlabel(\"V1\")\n",
    "plt.ylabel(\"V2\")\n",
    "plt.show()"
   ]
  },
  {
   "cell_type": "markdown",
   "metadata": {},
   "source": [
    "Yes, there is a clear separation of the raw data (as shown above)."
   ]
  },
  {
   "cell_type": "markdown",
   "metadata": {},
   "source": [
    "### (2) Apply your own PCA class to this dataset without scaling the two variables. Project the raw data onto your first principal component axis, i.e. the PC1 axis."
   ]
  },
  {
   "cell_type": "code",
   "execution_count": 54,
   "metadata": {},
   "outputs": [
    {
     "name": "stderr",
     "output_type": "stream",
     "text": [
      "C:\\Anaconda\\lib\\site-packages\\ipykernel_launcher.py:56: UserWarning: Matplotlib is currently using module://ipykernel.pylab.backend_inline, which is a non-GUI backend, so cannot show the figure.\n"
     ]
    },
    {
     "data": {
      "image/png": "[encoded data removed]",
      "text/plain": [
       "<Figure size 432x288 with 1 Axes>"
      ]
     },
     "metadata": {
      "needs_background": "light"
     },
     "output_type": "display_data"
    }
   ],
   "source": [
    "Question2 = DoPCA()\n",
    "Q2 = Question2.PCA(data,False)"
   ]
  },
  {
   "cell_type": "markdown",
   "metadata": {},
   "source": [
    "The Red Line is PC1; The Green line is PC2."
   ]
  },
  {
   "cell_type": "markdown",
   "metadata": {},
   "source": [
    "### (3) Add the PC1 axis to the plot you obtained in (1)."
   ]
  },
  {
   "cell_type": "code",
   "execution_count": 55,
   "metadata": {},
   "outputs": [
    {
     "data": {
      "image/png": "[encoded data removed]",
      "text/plain": [
       "<Figure size 432x288 with 1 Axes>"
      ]
     },
     "metadata": {
      "needs_background": "light"
     },
     "output_type": "display_data"
    }
   ],
   "source": [
    "k = 30\n",
    "eigenvectors = Q2['loadings']\n",
    "\n",
    "plt.plot(group1.iloc[:,0],group1.iloc[:,1],\"ro\")\n",
    "plt.plot(group2.iloc[:,0],group2.iloc[:,1],\"bo\")\n",
    "plt.xlabel(\"V1\")\n",
    "plt.ylabel(\"V2\")\n",
    "plt.plot([0, (-1)*k*eigenvectors[0,0]], [0, (-1)*k*eigenvectors[1,0]], color='red', linewidth=3)\n",
    "plt.show()"
   ]
  },
  {
   "cell_type": "markdown",
   "metadata": {},
   "source": [
    "### (4) Apply your own LDA class to this dataset and obtain W. The class information of each data point is in the label column."
   ]
  },
  {
   "cell_type": "code",
   "execution_count": 56,
   "metadata": {},
   "outputs": [
    {
     "name": "stdout",
     "output_type": "stream",
     "text": [
      "[[4495.         4581.47195687]\n",
      " [4581.47195687 4733.28896285]]\n",
      "(2, 2)\n",
      "[-0.09913814  0.09726698]\n"
     ]
    }
   ],
   "source": [
    "Question4 = LDA2classes()\n",
    "Q4 = Question4.doLDA(\"./dataset_1.csv\",0,1)\n",
    "print(Q4['W'])"
   ]
  },
  {
   "cell_type": "markdown",
   "metadata": {},
   "source": [
    "### (5) Project your raw data onto W. Do you see a clear separation of the data in the projection onto W?"
   ]
  },
  {
   "cell_type": "code",
   "execution_count": 70,
   "metadata": {},
   "outputs": [
    {
     "data": {
      "text/plain": [
       "[<matplotlib.lines.Line2D at 0x16720344fc8>]"
      ]
     },
     "execution_count": 70,
     "metadata": {},
     "output_type": "execute_result"
    },
    {
     "data": {
      "image/png": "[encoded data removed]",
      "text/plain": [
       "<Figure size 432x288 with 1 Axes>"
      ]
     },
     "metadata": {
      "needs_background": "light"
     },
     "output_type": "display_data"
    }
   ],
   "source": [
    "w_points_g1 = []\n",
    "for i in range(group1.shape[0]):\n",
    "    x = group1.iloc[i,0:group1.shape[1]-1]\n",
    "    val = np.matmul(x,Q4['W'].T)\n",
    "    w_points_g1.append(val)\n",
    "g1_zeros = []\n",
    "for i in range(len(w_points_g1)):\n",
    "    g1_zeros.append(0)\n",
    "\n",
    "w_points_g2 = []\n",
    "for i in range(group2.shape[0]):\n",
    "    x = group2.iloc[i,0:group2.shape[1]-1]\n",
    "    val = np.matmul(x,Q4['W'].T)\n",
    "    w_points_g2.append(val)\n",
    "g2_zeros = []\n",
    "for i in range(len(w_points_g2)):\n",
    "    g2_zeros.append(0)\n",
    "\n",
    "plt.plot(w_points_g1, g1_zeros, 'ro')\n",
    "plt.plot(w_points_g2, g2_zeros, 'bo')\n"
   ]
  },
  {
   "cell_type": "markdown",
   "metadata": {},
   "source": [
    "### (6) Add the W axis to your plot. At this point, your plot should contain the raw data points, the PC1 axis you obtain from the PCA analysis, and the W axis you obtain from the LDA analysis."
   ]
  },
  {
   "cell_type": "code",
   "execution_count": 87,
   "metadata": {},
   "outputs": [
    {
     "data": {
      "image/png": "[encoded data removed]",
      "text/plain": [
       "<Figure size 432x288 with 1 Axes>"
      ]
     },
     "metadata": {
      "needs_background": "light"
     },
     "output_type": "display_data"
    }
   ],
   "source": [
    "k = 30\n",
    "w_multiplier = 100\n",
    "eigenvectors = Q2['loadings']\n",
    "\n",
    "x_values = [-Q4['W'][0]*w_multiplier, Q4['W'][0]*w_multiplier]\n",
    "y_values = [-Q4['W'][1]*w_multiplier, Q4['W'][1]*w_multiplier]\n",
    "\n",
    "#x_values = [0, Q4['W'][0]*w_multiplier]\n",
    "#y_values = [0, Q4['W'][1]*w_multiplier]\n",
    "\n",
    "plt.plot(group1.iloc[:,0],group1.iloc[:,1],\"ro\")\n",
    "plt.plot(group2.iloc[:,0],group2.iloc[:,1],\"bo\")\n",
    "plt.xlabel(\"V1\")\n",
    "plt.ylabel(\"V2\")\n",
    "plt.plot([0, (-1)*k*eigenvectors[0,0]], [0, (-1)*k*eigenvectors[1,0]], color='red', linewidth=3)\n",
    "plt.plot(x_values, y_values)\n",
    "plt.show()"
   ]
  },
  {
   "cell_type": "markdown",
   "metadata": {},
   "source": [
    "### (7) Compute the variance of the projections onto the W axis."
   ]
  },
  {
   "cell_type": "code",
   "execution_count": 80,
   "metadata": {},
   "outputs": [
    {
     "name": "stdout",
     "output_type": "stream",
     "text": [
      "[0.2935140863721563, 0.30896856251895516]\n"
     ]
    }
   ],
   "source": [
    "print(Q4['variance'])"
   ]
  },
  {
   "cell_type": "markdown",
   "metadata": {},
   "source": [
    "### (8) What message can you get from the above PCA and LDA analyses?"
   ]
  },
  {
   "cell_type": "markdown",
   "metadata": {},
   "source": [
    "The message I get from the above PCA and LDA analyses is that LDA does a better job seperating the data into groups while PCA is better at dimension reduction."
   ]
  },
  {
   "cell_type": "code",
   "execution_count": null,
   "metadata": {},
   "outputs": [],
   "source": []
  },
  {
   "cell_type": "code",
   "execution_count": null,
   "metadata": {},
   "outputs": [],
   "source": []
  },
  {
   "cell_type": "code",
   "execution_count": null,
   "metadata": {},
   "outputs": [],
   "source": []
  },
  {
   "cell_type": "code",
   "execution_count": null,
   "metadata": {},
   "outputs": [],
   "source": [
    "data = pd.read_csv(\"./dataset_1.csv\")\n",
    "#data\n",
    "data.columns[-1]"
   ]
  },
  {
   "cell_type": "code",
   "execution_count": null,
   "metadata": {},
   "outputs": [],
   "source": [
    "group1 = data[data.iloc[:,-1] == 0]\n",
    "group1"
   ]
  },
  {
   "cell_type": "code",
   "execution_count": null,
   "metadata": {},
   "outputs": [],
   "source": [
    "#data.head()"
   ]
  },
  {
   "cell_type": "code",
   "execution_count": null,
   "metadata": {},
   "outputs": [],
   "source": [
    "#data.shape"
   ]
  },
  {
   "cell_type": "code",
   "execution_count": null,
   "metadata": {},
   "outputs": [],
   "source": [
    "#data[\"label\"]\n",
    "#data[data[\"label\"] == 1]"
   ]
  },
  {
   "cell_type": "code",
   "execution_count": null,
   "metadata": {},
   "outputs": [],
   "source": [
    "#data.shape[1]-1"
   ]
  },
  {
   "cell_type": "code",
   "execution_count": null,
   "metadata": {},
   "outputs": [],
   "source": [
    "#data.iloc[0]"
   ]
  },
  {
   "cell_type": "code",
   "execution_count": null,
   "metadata": {},
   "outputs": [],
   "source": [
    "#group1 = data[data[\"label\"] == 1]\n",
    "#list1 = []\n",
    "#for a in range(group1.shape[1]-1):\n",
    "#    list1.append(0)\n",
    "#print(list1)\n",
    "#x1 = np.array(list1)\n",
    "#print(μ1)\n",
    "#for b in range(group1.shape[0]):\n",
    "#    x1 = np.add(x1,group1.iloc[b,0:group1.shape[1]-1])\n",
    "    \n",
    "#μ1 = x1/group1.shape[0]"
   ]
  },
  {
   "cell_type": "code",
   "execution_count": null,
   "metadata": {},
   "outputs": [],
   "source": [
    "#μ1"
   ]
  },
  {
   "cell_type": "code",
   "execution_count": null,
   "metadata": {},
   "outputs": [],
   "source": [
    "#S1 = 0\n",
    "#for i in range(group1.shape[0]):\n",
    "#    m1 = np.subtract(group1.iloc[i,0:group1.shape[1]-1],μ1) # (X - μ1)\n",
    "#    m2 = m1.T  # (X - μ1)^T\n",
    "#    S1 = S1 + np.matmul(m1,m2)\n",
    "    \n",
    "#print(S1) 4604.183640313355\n",
    "\n",
    "S1 = np.matrix('0 0; 0 0') #This needs to be a dxd matrix\n",
    "for i in range(group1.shape[0]):\n",
    "    m1 = np.subtract(group1.iloc[i,0:group1.shape[1]-1],μ1) # (X - μ1) 1xd\n",
    "    #print(m1)\n",
    "    m2 = m1.T  # (X - μ1)^T dx1\n",
    "    #print(m2)\n",
    "    S1 = S1 + np.matmul(m2,m1)\n",
    "print(S1)\n"
   ]
  },
  {
   "cell_type": "code",
   "execution_count": 49,
   "metadata": {},
   "outputs": [
    {
     "name": "stdout",
     "output_type": "stream",
     "text": [
      "[[4495.         4581.47195687]\n",
      " [4581.47195687 4733.28896285]]\n",
      "(2, 2)\n"
     ]
    }
   ],
   "source": [
    "Test1 = LDA2classes()\n",
    "x = Test1.doLDA(\"./dataset_1.csv\",0,1)"
   ]
  },
  {
   "cell_type": "code",
   "execution_count": 50,
   "metadata": {},
   "outputs": [
    {
     "data": {
      "text/plain": [
       "[0.2935140863721563, 0.30896856251895516]"
      ]
     },
     "execution_count": 50,
     "metadata": {},
     "output_type": "execute_result"
    }
   ],
   "source": [
    "x['variance']"
   ]
  },
  {
   "cell_type": "code",
   "execution_count": 51,
   "metadata": {},
   "outputs": [
    {
     "data": {
      "text/plain": [
       "array([-0.09913814,  0.09726698])"
      ]
     },
     "execution_count": 51,
     "metadata": {},
     "output_type": "execute_result"
    }
   ],
   "source": [
    "x['W']"
   ]
  },
  {
   "cell_type": "code",
   "execution_count": 24,
   "metadata": {},
   "outputs": [
    {
     "name": "stdout",
     "output_type": "stream",
     "text": [
      "[[0 0 0]\n",
      " [0 0 0]]\n"
     ]
    }
   ],
   "source": [
    "abc = [0,0,0]\n",
    "cba = [0,0,0]\n",
    "\n",
    "ccc = []\n",
    "ccc.append(abc)\n",
    "ccc.append(cba)\n",
    "ccc = np.asarray(ccc)\n",
    "\n",
    "aaa = np.asmatrix(ccc)\n",
    "print(aaa)"
   ]
  },
  {
   "cell_type": "code",
   "execution_count": 27,
   "metadata": {},
   "outputs": [
    {
     "name": "stdout",
     "output_type": "stream",
     "text": [
      "[[0 0 0]\n",
      " [0 0 0]\n",
      " [0 0 0]]\n"
     ]
    }
   ],
   "source": [
    "n = 3\n",
    "final_list = []\n",
    "temp_list = []\n",
    "\n",
    "for i in range(n):\n",
    "    for j in range(n):\n",
    "        temp_list.append(0)\n",
    "    final_list.append(temp_list)\n",
    "    temp_list = []\n",
    "    \n",
    "myMatrix = np.asmatrix(np.asarray(final_list))\n",
    "print(myMatrix)"
   ]
  },
  {
   "cell_type": "code",
   "execution_count": null,
   "metadata": {},
   "outputs": [],
   "source": []
  }
 ],
 "metadata": {
  "kernelspec": {
   "display_name": "Python 3",
   "language": "python",
   "name": "python3"
  },
  "language_info": {
   "codemirror_mode": {
    "name": "ipython",
    "version": 3
   },
   "file_extension": ".py",
   "mimetype": "text/x-python",
   "name": "python",
   "nbconvert_exporter": "python",
   "pygments_lexer": "ipython3",
   "version": "3.7.4"
  }
 },
 "nbformat": 4,
 "nbformat_minor": 2
}
